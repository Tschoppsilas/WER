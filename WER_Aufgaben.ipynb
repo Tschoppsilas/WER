{
 "cells": [
  {
   "metadata": {},
   "cell_type": "markdown",
   "source": "Import",
   "id": "b167b09a77171f51"
  },
  {
   "cell_type": "code",
   "id": "initial_id",
   "metadata": {
    "collapsed": true,
    "ExecuteTime": {
     "end_time": "2024-12-04T10:10:22.890975Z",
     "start_time": "2024-12-04T10:10:22.885582Z"
    }
   },
   "source": [
    "import numpy as np\n",
    "import pandas as pd\n",
    "import matplotlib.pyplot as plt\n",
    "import itertools\n",
    "from math import comb"
   ],
   "outputs": [],
   "execution_count": 37
  },
  {
   "metadata": {},
   "cell_type": "markdown",
   "source": "Daten",
   "id": "425f06f1a28a134f"
  },
  {
   "metadata": {
    "ExecuteTime": {
     "end_time": "2024-12-04T10:05:47.838394Z",
     "start_time": "2024-12-04T10:05:47.830167Z"
    }
   },
   "cell_type": "code",
   "source": [
    "kartenfarben = [\"grün\"]*5 + [\"gelb\"]*3\n",
    "münzenwurf = [\"Kopf\", \"Zahl\"]\n",
    "\n",
    "#ereignisraum"
   ],
   "id": "c534fc264b78c55f",
   "outputs": [],
   "execution_count": 31
  },
  {
   "metadata": {},
   "cell_type": "markdown",
   "source": "Erstellung von Ergebnisraum, wenn mehrere Daten Ereignisse vorhanden, wenn nicht, schreibe bei daten ergebnisraum",
   "id": "1b1efde6e402efad"
  },
  {
   "metadata": {
    "ExecuteTime": {
     "end_time": "2024-12-04T10:05:50.294176Z",
     "start_time": "2024-12-04T10:05:50.287545Z"
    }
   },
   "cell_type": "code",
   "source": [
    "# Ereignisraum generieren\n",
    "ereignisraum = list(itertools.product(kartenfarben, münzenwurf))\n",
    "\n",
    "print(ereignisraum)"
   ],
   "id": "ab9a715da001c26e",
   "outputs": [
    {
     "name": "stdout",
     "output_type": "stream",
     "text": [
      "[('grün', 'Kopf'), ('grün', 'Zahl'), ('grün', 'Kopf'), ('grün', 'Zahl'), ('grün', 'Kopf'), ('grün', 'Zahl'), ('grün', 'Kopf'), ('grün', 'Zahl'), ('grün', 'Kopf'), ('grün', 'Zahl'), ('gelb', 'Kopf'), ('gelb', 'Zahl'), ('gelb', 'Kopf'), ('gelb', 'Zahl'), ('gelb', 'Kopf'), ('gelb', 'Zahl')]\n"
     ]
    }
   ],
   "execution_count": 32
  },
  {
   "metadata": {},
   "cell_type": "markdown",
   "source": [
    "Wahrscheinlichkeiten berechnen\n",
    "\\begin{equation}\n",
    "P(A) = \\frac{Anz. Günstiger erreignisse}{Ergebnisraum}\n",
    "\\end{equation}"
   ],
   "id": "837e452f9d86ae16"
  },
  {
   "metadata": {
    "ExecuteTime": {
     "end_time": "2024-12-04T14:55:11.294625Z",
     "start_time": "2024-12-04T14:55:11.287800Z"
    }
   },
   "cell_type": "code",
   "source": [
    "#filtere die günstigen ergebnisse, welche verlangt sind\n",
    "filter_a = lambda ereignis: ereignis[0] in [\"grün\"] and ereignis[1] in [\"Zahl\"]\n",
    "günstige_ereignisse = list(filter(filter_a, ereignisraum))\n",
    "#Berechner der Wahrscheinlichkeit\n",
    "p_a = len(günstige_ereignisse) / len(ereignisraum)\n",
    "#ausgeben der Wahrscheinlichkeit in %\n",
    "print(p_a * 100, \"%\")"
   ],
   "id": "414e8c938d489cf0",
   "outputs": [
    {
     "name": "stdout",
     "output_type": "stream",
     "text": [
      "31.25 %\n"
     ]
    }
   ],
   "execution_count": 110
  },
  {
   "metadata": {},
   "cell_type": "markdown",
   "source": [
    "\\begin{equation}\n",
    "\\binom{n}{k}\n",
    "\\end{equation}"
   ],
   "id": "6929102fa3aa1b6d"
  },
  {
   "metadata": {
    "ExecuteTime": {
     "end_time": "2024-12-04T10:41:31.681658Z",
     "start_time": "2024-12-04T10:41:31.671727Z"
    }
   },
   "cell_type": "code",
   "source": [
    "n = 52 #Die Anzahl der Versuche (oder Experimente),\n",
    "k = 5 #Die Anzahl der Erfolge\n",
    "\n",
    "berechnung = comb(n, k)\n",
    "print(berechnung)"
   ],
   "id": "97446269145b51e8",
   "outputs": [
    {
     "name": "stdout",
     "output_type": "stream",
     "text": [
      "2598960\n"
     ]
    }
   ],
   "execution_count": 44
  },
  {
   "metadata": {},
   "cell_type": "markdown",
   "source": [
    "\\begin{title}\n",
    "Binominialverteilung\n",
    "\\end{title}\n",
    "\\begin{equation}\n",
    "P(X = k) = \\binom{n}{k} \\cdot p^k \\cdot (1 - p)^{n - k}\n",
    "\\end{equation}\n",
    "\\begin{title}Kumulatative Warscheinlichkeit\\end{title}\n",
    "\\begin{equation}\n",
    "P(X>=7)=1-\\sum_{k=0}^6 P(X=k)\n",
    "\\end{equation}"
   ],
   "id": "a3b537400531b7b0"
  },
  {
   "metadata": {
    "ExecuteTime": {
     "end_time": "2024-12-04T14:54:34.444136Z",
     "start_time": "2024-12-04T14:54:34.436121Z"
    }
   },
   "cell_type": "code",
   "source": [
    "# Parameter\n",
    "n = 20 #anzahl versuche / total vorhanden\n",
    "p = 0.5 #wahrscheinlichkeit für erfolg\n",
    "\n",
    "# Wahrscheinlichkeit für X <= 6\n",
    "p_x_le_6 = sum(comb(n, k) * (p**k) * ((1-p)**(n-k)) for k in range(7))\n",
    "print(p_x_le_6)\n",
    "# Wahrscheinlichkeit für X >= 7\n",
    "p_x_ge_7 = 1 - p_x_le_6\n",
    "\n",
    "print(f\"Wahrscheinlichkeit, dass die Münze mindestens 7 Mal auf Kopf landet:{p_x_ge_7 * 100:.2f}%\")"
   ],
   "id": "95a7199a82eee5e1",
   "outputs": [
    {
     "name": "stdout",
     "output_type": "stream",
     "text": [
      "0.057659149169921875\n",
      "Wahrscheinlichkeit, dass die Münze mindestens 7 Mal auf Kopf landet:94.23%\n"
     ]
    }
   ],
   "execution_count": 108
  },
  {
   "metadata": {},
   "cell_type": "markdown",
   "source": [
    "Satz von Bayes **Bedingte Warscheinlichkeit**\n",
    "\\begin{equation}\n",
    "P(A|B) = \\frac{P(B|A) \\cdot P(A)}{P(B)}\n",
    "\\end{equation}"
   ],
   "id": "4359f58eedd7dc80"
  },
  {
   "metadata": {
    "ExecuteTime": {
     "end_time": "2024-12-04T12:22:01.762913Z",
     "start_time": "2024-12-04T12:21:53.355007Z"
    }
   },
   "cell_type": "code",
   "source": [
    "# Gegebene Wahrscheinlichkeiten\n",
    "P_A = 0.04  # Wahrscheinlichkeit, dass das Ereignis A wahr ist (z. B. gezinkter Würfel)\n",
    "P_neg_A = 0.96  # Wahrscheinlichkeit, dass das Ereignis A nicht wahr ist (z. B. fairer Würfel)\n",
    "P_B_given_A = 0.35  # Wahrscheinlichkeit, dass B eintritt, wenn A wahr ist (z. B. Wahrscheinlichkeit für eine 5 bei gezinktem Würfel)\n",
    "P_B_given_neg_A = 1/6  # Wahrscheinlichkeit, dass B eintritt, wenn A nicht wahr ist (z. B. Wahrscheinlichkeit für eine 5 bei einem fairen Würfel)\n",
    "\n",
    "# Funktion zur Berechnung von P(A|B) mit Bayes' Theorem\n",
    "def bayes_theorem(n):\n",
    "    # Berechnung der Wahrscheinlichkeit für n Wiederholungen von B bei A\n",
    "    P_B_given_A_n = P_B_given_A**n\n",
    "    \n",
    "    # Berechnung der Wahrscheinlichkeit für n Wiederholungen von B bei ¬A\n",
    "    P_B_given_neg_A_n = P_B_given_neg_A**n\n",
    "    \n",
    "    # Gesamtwahrscheinlichkeit für n Wiederholungen von B\n",
    "    P_B = P_B_given_A_n * P_A + P_B_given_neg_A_n * P_neg_A\n",
    "    \n",
    "    # Bayes' Theorem anwenden\n",
    "    P_A_given_B = (P_B_given_A_n * P_A) / P_B\n",
    "    return P_A_given_B\n",
    "\n",
    "# Eingabe der Anzahl der Wiederholungen\n",
    "n = int(input(\"Geben Sie die Anzahl der Wiederholungen von B (z.B. 2 für zweimal hintereinander) ein: \"))\n",
    "\n",
    "# Berechnung der Wahrscheinlichkeit P(A|B)\n",
    "P_A_given_B = bayes_theorem(n)\n",
    "\n",
    "# Ausgabe der Wahrscheinlichkeit\n",
    "print(f\"Die Wahrscheinlichkeit, dass A wahr ist, nachdem {n} Wiederholungen von B beobachtet wurden, beträgt: {P_A_given_B * 100:.2f}%\")\n"
   ],
   "id": "baf71938b4b031f",
   "outputs": [
    {
     "name": "stdout",
     "output_type": "stream",
     "text": [
      "Die Wahrscheinlichkeit, dass A wahr ist, nachdem 5 Wiederholungen von B beobachtet wurden, beträgt: 62.99%\n"
     ]
    }
   ],
   "execution_count": 74
  },
  {
   "metadata": {},
   "cell_type": "markdown",
   "source": [
    "Satz von Bayes wenn die Wahrscheinlichkeit einer Bedingten Warscheinlichkeit grösser als einen **X%** sein soll\n",
    "\\begin{equation}\n",
    "P(A|B) > X\\%\n",
    "\\end{equation}"
   ],
   "id": "2222d8f748f83008"
  },
  {
   "metadata": {
    "ExecuteTime": {
     "end_time": "2024-12-04T12:21:04.576901Z",
     "start_time": "2024-12-04T12:21:04.568742Z"
    }
   },
   "cell_type": "code",
   "source": [
    "# Gegebene Wahrscheinlichkeiten\n",
    "P_A = 0.04  # Beispielwert für P(A)\n",
    "P_neg_A = 0.96  # Beispielwert für P(¬A)\n",
    "P_B_given_A = 0.35  # Beispielwert für P(B|A)\n",
    "P_B_given_neg_A = 1/6  # Beispielwert für P(B|¬A)\n",
    "\n",
    "X = 0.08\n",
    "\n",
    "# Funktion zur Berechnung von P(A|B) mit Bayes' Theorem\n",
    "def bayes_theorem_von_hier(n):\n",
    "    P_B_given_A_n = P_B_given_A**n  # Wahrscheinlichkeit für n Wiederholungen von B bei A\n",
    "    P_B_given_neg_A_n = P_B_given_neg_A**n  # Wahrscheinlichkeit für n Wiederholungen von B bei ¬A\n",
    "    \n",
    "    # Gesamtwahrscheinlichkeit für n Wiederholungen von B\n",
    "    P_B = P_B_given_A_n * P_A + P_B_given_neg_A_n * P_neg_A\n",
    "\n",
    "    # Bayes' Theorem anwenden\n",
    "    P_A_given_B = (P_B_given_A_n * P_A) / P_B\n",
    "    return P_A_given_B\n",
    "\n",
    "# Bestimmen der kleinsten Anzahl n, für die P(A|B) > 0.5\n",
    "n = 1\n",
    "while bayes_theorem_von_hier(n) <= X:\n",
    "    n += 1\n",
    "\n",
    "print(f\"Nach {n} Wiederholungen von B ist die Wahrscheinlichkeit, dass A zutrifft, größer als {X*100}%.\")\n"
   ],
   "id": "14255bf259100b63",
   "outputs": [
    {
     "name": "stdout",
     "output_type": "stream",
     "text": [
      "Nach 1 Wiederholungen von B ist die Wahrscheinlichkeit, dass A zutrifft, größer als 8.0%.\n"
     ]
    }
   ],
   "execution_count": 73
  },
  {
   "metadata": {},
   "cell_type": "markdown",
   "source": "***Die Anzahl möglichkeiten berechnen (Kobinatorik)***",
   "id": "406cf64110fd65a9"
  },
  {
   "metadata": {
    "ExecuteTime": {
     "end_time": "2024-12-04T13:40:50.186237Z",
     "start_time": "2024-12-04T13:40:46.365435Z"
    }
   },
   "cell_type": "code",
   "source": [
    "from Kombinatoriken import kombination_variation_permutation_\n",
    "kombination_variation_permutation_()"
   ],
   "id": "fc32d69977d02af0",
   "outputs": [
    {
     "name": "stdout",
     "output_type": "stream",
     "text": [
      "120\n"
     ]
    }
   ],
   "execution_count": 98
  },
  {
   "metadata": {
    "ExecuteTime": {
     "end_time": "2024-12-04T13:49:57.386182Z",
     "start_time": "2024-12-04T13:49:47.740332Z"
    }
   },
   "cell_type": "code",
   "source": [
    "P_A = float(input(\"Die Wahrscheinlichkeit in %, dass das Ereignis A wahr ist (z. B. gezinkter Würfel)\"))/100  # Wahrscheinlichkeit, dass das Ereignis A wahr ist (z. B. gezinkter Würfel)\n",
    "P_neg_A = float(input(\" Die Wahrscheinlichkeit in %, dass das Ereignis A nicht wahr ist (z. B. fairer Würfel)\"))/100  # Wahrscheinlichkeit, dass das Ereignis A nicht wahr ist (z. B. fairer Würfel)\n",
    "P_B_given_A = float(input(\"Die Wahrscheinlichkeit in %, dass B eintritt, wenn A wahr ist (z. B. Wahrscheinlichkeit für eine 5 bei gezinktem Würfel)\"))/100  # Wahrscheinlichkeit, dass B eintritt, wenn A wahr ist (z. B. Wahrscheinlichkeit für eine 5 bei gezinktem Würfel)\n",
    "P_B_given_neg_A = float(input(\"Die Wahrscheinlichkeitin %, dass B eintritt, wenn A nicht wahr ist (z. B. Wahrscheinlichkeit für eine 5 bei einem fairen Würfel)\"))/100  # Wahrscheinlichkeit, dass B eintritt, wenn A nicht wahr ist (z. B. Wahrscheinlichkeit für eine 5 bei einem fairen Würfel)\n",
    "\n",
    "def bayes_theorem(n):\n",
    "    # Berechnung der Wahrscheinlichkeit für n Wiederholungen von B bei A\n",
    "    P_B_given_A_n = P_B_given_A ** n\n",
    "\n",
    "    # Berechnung der Wahrscheinlichkeit für n Wiederholungen von B bei ¬A\n",
    "    P_B_given_neg_A_n = P_B_given_neg_A ** n\n",
    "\n",
    "    # Gesamtwahrscheinlichkeit für n Wiederholungen von B\n",
    "    P_B = P_B_given_A_n * P_A + P_B_given_neg_A_n * P_neg_A\n",
    "\n",
    "    # Bayes' Theorem anwenden\n",
    "    P_A_given_B = (P_B_given_A_n * P_A) / P_B\n",
    "    return P_A_given_B * 100\n",
    "\n",
    "print(f\"{bayes_theorem(5)}%\")"
   ],
   "id": "f0e6eeade2164378",
   "outputs": [
    {
     "name": "stdout",
     "output_type": "stream",
     "text": [
      "63.033012056398206%\n"
     ]
    }
   ],
   "execution_count": 106
  }
 ],
 "metadata": {
  "kernelspec": {
   "display_name": "Python 3",
   "language": "python",
   "name": "python3"
  },
  "language_info": {
   "codemirror_mode": {
    "name": "ipython",
    "version": 2
   },
   "file_extension": ".py",
   "mimetype": "text/x-python",
   "name": "python",
   "nbconvert_exporter": "python",
   "pygments_lexer": "ipython2",
   "version": "2.7.6"
  }
 },
 "nbformat": 4,
 "nbformat_minor": 5
}
