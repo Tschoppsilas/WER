{
 "cells": [
  {
   "metadata": {},
   "cell_type": "markdown",
   "source": [
    "\\begin{title}\n",
    "Import\n",
    "\\end{title}"
   ],
   "id": "ea8eca4cbfa7caaa"
  },
  {
   "metadata": {
    "ExecuteTime": {
     "end_time": "2024-12-04T15:05:34.958914Z",
     "start_time": "2024-12-04T15:05:34.947927Z"
    }
   },
   "cell_type": "code",
   "source": [
    "import numpy as np\n",
    "import pandas as pd\n",
    "import matplotlib.pyplot as plt\n",
    "import itertools\n",
    "from math import comb\n",
    "from Kombinatoriken import kombination_variation_permutation_\n",
    "from Bayes import bayes_theorem\n",
    "from Unabhängikeit import pruefe_unabhaengigkeit\n",
    "from Binom_verteilung import Binominialverteilung\n",
    "from Kumulativ import Kumulativ"
   ],
   "id": "483c13d17b02036d",
   "outputs": [],
   "execution_count": 51
  },
  {
   "metadata": {},
   "cell_type": "markdown",
   "source": [
    "\\begin{title}\n",
    "Die Anzahl möglichkeiten berechnen (Kobinatorik)\n",
    "\\end{title}"
   ],
   "id": "514610c2b2c290d4"
  },
  {
   "metadata": {
    "ExecuteTime": {
     "end_time": "2024-12-04T13:43:10.603034Z",
     "start_time": "2024-12-04T13:43:09.109296Z"
    }
   },
   "cell_type": "code",
   "source": "kombination_variation_permutation_()",
   "id": "8535b0028859a574",
   "outputs": [
    {
     "name": "stdout",
     "output_type": "stream",
     "text": [
      "Ungültige Eingabe. Bitte starten Sie das Programm erneut.\n"
     ]
    }
   ],
   "execution_count": 3
  },
  {
   "metadata": {},
   "cell_type": "markdown",
   "source": [
    "\\begin{title}\n",
    "Bedingte Warscheinlichkeit\n",
    "\\end{title}\n",
    "\\begin{equation}\n",
    "P(A|B) = \\frac{P(B|A) \\cdot P(A)}{P(B)}\n",
    "\\end{equation}"
   ],
   "id": "d9cd96b35ef34b9b"
  },
  {
   "metadata": {
    "ExecuteTime": {
     "end_time": "2024-12-04T13:56:12.972475Z",
     "start_time": "2024-12-04T13:56:00.670886Z"
    }
   },
   "cell_type": "code",
   "source": [
    "n = int(input(\"Anzahl durchläufe (Beipsielsweise 2 Mal gewürfelt\"))\n",
    "bayes_theorem(n)"
   ],
   "id": "f3f5c8644c415a5b",
   "outputs": [
    {
     "name": "stdout",
     "output_type": "stream",
     "text": [
      "15.533198795120834%\n"
     ]
    }
   ],
   "execution_count": 6
  },
  {
   "metadata": {},
   "cell_type": "markdown",
   "source": [
    "\\begin{title}\n",
    "Satz von Bayes wenn die Wahrscheinlichkeit einer Bedingten Warscheinlichkeit grösser als einen **X%** sein soll\n",
    "\\end{title}\n",
    "\\begin{equation}\n",
    "P(A|B) > X\\%\n",
    "\\end{equation}\n",
    "**ACHTUNG HIER SELBER EINGEBEN**"
   ],
   "id": "6f488fafe420d377"
  },
  {
   "metadata": {
    "ExecuteTime": {
     "end_time": "2024-12-04T14:16:33.165323Z",
     "start_time": "2024-12-04T14:16:33.155072Z"
    }
   },
   "cell_type": "code",
   "source": [
    "X = 0.5 \n",
    "P_A = 0.04  # Beispielwert für P(A)\n",
    "P_neg_A = 0.96  # Beispielwert für P(¬A)\n",
    "P_B_given_A = 0.35  # Beispielwert für P(B|A)\n",
    "P_B_given_neg_A = 1/6  # Beispielwert für P(B|¬A)\n",
    "\n",
    "def bayes_theorem_von_hier(n):\n",
    "    P_B_given_A_n = P_B_given_A**n  # Wahrscheinlichkeit für n Wiederholungen von B bei A\n",
    "    P_B_given_neg_A_n = P_B_given_neg_A**n  # Wahrscheinlichkeit für n Wiederholungen von B bei ¬A\n",
    "    \n",
    "    # Gesamtwahrscheinlichkeit für n Wiederholungen von B\n",
    "    P_B = P_B_given_A_n * P_A + P_B_given_neg_A_n * P_neg_A\n",
    "\n",
    "    # Bayes' Theorem anwenden\n",
    "    P_A_given_B = (P_B_given_A_n * P_A) / P_B\n",
    "    return P_A_given_B\n",
    "n = 1\n",
    "while bayes_theorem_von_hier(n) < X:\n",
    "    n += 1\n",
    "\n",
    "print(f\"Nach {n} Wiederholungen.\")"
   ],
   "id": "abbf6f5c1a326058",
   "outputs": [
    {
     "name": "stdout",
     "output_type": "stream",
     "text": [
      "Nach 5 Wiederholungen.\n"
     ]
    }
   ],
   "execution_count": 19
  },
  {
   "metadata": {},
   "cell_type": "markdown",
   "source": [
    "\\begin{title}\n",
    "Unabhängigkeitsprüfung\n",
    "\\end{title}"
   ],
   "id": "b01f07c11e5fad05"
  },
  {
   "metadata": {
    "ExecuteTime": {
     "end_time": "2024-12-04T14:35:20.650839Z",
     "start_time": "2024-12-04T14:35:15.083864Z"
    }
   },
   "cell_type": "code",
   "source": "pruefe_unabhaengigkeit()",
   "id": "667977c9ebd20a52",
   "outputs": [
    {
     "name": "stdout",
     "output_type": "stream",
     "text": [
      "Abhängig.\n"
     ]
    }
   ],
   "execution_count": 24
  },
  {
   "metadata": {},
   "cell_type": "markdown",
   "source": [
    "\\begin{title}\n",
    "Binominialverteilung\n",
    "\\end{title}\n",
    "\\begin{equation}\n",
    "P(X = k) = \\binom{n}{k} \\cdot p^k \\cdot (1 - p)^{n - k}\n",
    "\\end{equation}"
   ],
   "id": "b4c05c0a5c385ea2"
  },
  {
   "metadata": {
    "ExecuteTime": {
     "end_time": "2024-12-04T15:04:18.158827Z",
     "start_time": "2024-12-04T15:04:12.969133Z"
    }
   },
   "cell_type": "code",
   "source": "Binominialverteilung()",
   "id": "b3535066672b7ab3",
   "outputs": [
    {
     "name": "stdout",
     "output_type": "stream",
     "text": [
      "7.39288330078125 %\n"
     ]
    }
   ],
   "execution_count": 50
  },
  {
   "metadata": {},
   "cell_type": "markdown",
   "source": [
    "\\begin{title}Kumulatative Warscheinlichkeit\\end{title}\n",
    "\\begin{equation}\n",
    "P(X>=Wert)=1-\\sum_{k=0}^{\\text{Wert}-1} P(X=k)\n",
    "\\end{equation}"
   ],
   "id": "7ba3e7eda02d591"
  },
  {
   "metadata": {
    "ExecuteTime": {
     "end_time": "2024-12-04T15:05:50.701196Z",
     "start_time": "2024-12-04T15:05:40.123396Z"
    }
   },
   "cell_type": "code",
   "source": "Kumulativ()",
   "id": "259690b134cf2d73",
   "outputs": [
    {
     "name": "stdout",
     "output_type": "stream",
     "text": [
      "Wahrscheinlichkeit, dass die Münze mindestens 7 Mal auf Kopf landet:94.23%\n"
     ]
    }
   ],
   "execution_count": 52
  }
 ],
 "metadata": {
  "kernelspec": {
   "display_name": "Python 3",
   "language": "python",
   "name": "python3"
  },
  "language_info": {
   "codemirror_mode": {
    "name": "ipython",
    "version": 2
   },
   "file_extension": ".py",
   "mimetype": "text/x-python",
   "name": "python",
   "nbconvert_exporter": "python",
   "pygments_lexer": "ipython2",
   "version": "2.7.6"
  }
 },
 "nbformat": 4,
 "nbformat_minor": 5
}
