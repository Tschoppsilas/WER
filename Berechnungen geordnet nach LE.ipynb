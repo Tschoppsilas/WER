{
 "cells": [
  {
   "metadata": {},
   "cell_type": "markdown",
   "source": [
    "\\begin{title}\n",
    "Import\n",
    "\\end{title}"
   ],
   "id": "ea8eca4cbfa7caaa"
  },
  {
   "metadata": {
    "ExecuteTime": {
     "end_time": "2025-01-15T09:44:27.743232Z",
     "start_time": "2025-01-15T09:44:26.181058Z"
    }
   },
   "cell_type": "code",
   "source": [
    "import numpy as np\n",
    "import pandas as pd\n",
    "import matplotlib.pyplot as plt\n",
    "import itertools\n",
    "from math import comb\n",
    "import math\n",
    "from Kombinatoriken import kombination_variation_permutation\n",
    "from Bedingte_warscheinlichkeit import calculate_conditional_probability\n",
    "from Bayes import bayes_theorem\n",
    "from Unabhängikeit import pruefe_unabhaengigkeit\n",
    "from Binom_verteilung import Binominialverteilung\n",
    "from Kumulativ import Kumulativ\n",
    "from Poissonverteilung import poisson_verteilung\n",
    "from Exponentialverteilung import exponential_verteilung_berechnen\n",
    "from Gleichverteilung import gleichverteilung_berechnen\n",
    "from Normalverteilung import normalverteilung_tool\n",
    "from Geometrische_Verteilung import geometrische_verteilung_berechnung\n",
    "from Schätzer import schätzung\n",
    "from Test_verteilung import Testverteilung\n",
    "from Hypothesentest import hypothesentests_pruefung"
   ],
   "id": "483c13d17b02036d",
   "outputs": [],
   "execution_count": 1
  },
  {
   "metadata": {},
   "cell_type": "markdown",
   "source": [
    "\\begin{title}\n",
    "Die Anzahl möglichkeiten berechnen (Kobinatorik)\n",
    "\\end{title}"
   ],
   "id": "514610c2b2c290d4"
  },
  {
   "metadata": {},
   "cell_type": "code",
   "outputs": [
    {
     "name": "stdout",
     "output_type": "stream",
     "text": [
      "Ergebnis (Kombination ohne Wiederholung): 2598960\n"
     ]
    }
   ],
   "execution_count": 13,
   "source": "kombination_variation_permutation()",
   "id": "8535b0028859a574"
  },
  {
   "metadata": {},
   "cell_type": "markdown",
   "source": [
    "\\begin{title}\n",
    "Bedingte Warscheinlichkeit\n",
    "\\end{title}\n",
    "Definiere uerst die Warscheinlichkeiten. Haben wir beispielsweise mehrere Ereignisse die Eintreffen können, wir aber nur für eines die Warscheinlichkeit berechnen müssen, so muss zunächst die **Gesamtwarscheinlichkeit** berechnet werden.\n",
    "Angenommen wir haben P(A), P(Y), P(Z), P(B|A), P(B|Y), P(B|Z)\n",
    "So ist die Gesamt Warscheinlichkeit \n",
    "\\begin{equation}\n",
    "P(B) = P(A) * P(B|A)+P(Y)*P(B|Y)+P(Z)*P(B|Z)\n",
    "\\end{equation}\n",
    "\\begin{equation}\n",
    "P(A|B) = \\frac{P(B|A) \\cdot P(A)}{P(B)}\n",
    "\\end{equation}"
   ],
   "id": "d9cd96b35ef34b9b"
  },
  {
   "metadata": {
    "ExecuteTime": {
     "end_time": "2025-01-09T07:07:20.715281Z",
     "start_time": "2025-01-09T07:07:09.359305Z"
    }
   },
   "cell_type": "code",
   "source": "calculate_conditional_probability()",
   "id": "d920164fac7d89f2",
   "outputs": [
    {
     "name": "stdout",
     "output_type": "stream",
     "text": [
      "=== Berechnung der bedingten Wahrscheinlichkeit ===\n"
     ]
    },
    {
     "ename": "ValueError",
     "evalue": "could not convert string to float: ''",
     "output_type": "error",
     "traceback": [
      "\u001B[1;31m---------------------------------------------------------------------------\u001B[0m",
      "\u001B[1;31mValueError\u001B[0m                                Traceback (most recent call last)",
      "Cell \u001B[1;32mIn[4], line 1\u001B[0m\n\u001B[1;32m----> 1\u001B[0m \u001B[43mcalculate_conditional_probability\u001B[49m\u001B[43m(\u001B[49m\u001B[43m)\u001B[49m\n",
      "File \u001B[1;32m~\\PycharmProjects\\WER\\Bedingte_warscheinlichkeit.py:6\u001B[0m, in \u001B[0;36mcalculate_conditional_probability\u001B[1;34m()\u001B[0m\n\u001B[0;32m      2\u001B[0m \u001B[38;5;250m\u001B[39m\u001B[38;5;124;03m\"\"\"\u001B[39;00m\n\u001B[0;32m      3\u001B[0m \u001B[38;5;124;03mBerechnet die bedingte Wahrscheinlichkeit basierend auf den Eingaben des Nutzers.\u001B[39;00m\n\u001B[0;32m      4\u001B[0m \u001B[38;5;124;03m\"\"\"\u001B[39;00m\n\u001B[0;32m      5\u001B[0m \u001B[38;5;28mprint\u001B[39m(\u001B[38;5;124m\"\u001B[39m\u001B[38;5;124m=== Berechnung der bedingten Wahrscheinlichkeit ===\u001B[39m\u001B[38;5;124m\"\u001B[39m)\n\u001B[1;32m----> 6\u001B[0m p_b_given_a \u001B[38;5;241m=\u001B[39m \u001B[38;5;28;43mfloat\u001B[39;49m\u001B[43m(\u001B[49m\u001B[38;5;28;43minput\u001B[39;49m\u001B[43m(\u001B[49m\u001B[38;5;124;43m\"\u001B[39;49m\u001B[38;5;124;43mGeben Sie P(B|A) in Kommazahlen (zwischen 0 und 1) ein: \u001B[39;49m\u001B[38;5;124;43m\"\u001B[39;49m\u001B[43m)\u001B[49m\u001B[43m)\u001B[49m\n\u001B[0;32m      7\u001B[0m p_a \u001B[38;5;241m=\u001B[39m \u001B[38;5;28mfloat\u001B[39m(\u001B[38;5;28minput\u001B[39m(\u001B[38;5;124m\"\u001B[39m\u001B[38;5;124mGeben Sie P(A) in Kommazahlen (zwischen 0 und 1) ein: \u001B[39m\u001B[38;5;124m\"\u001B[39m))\n\u001B[0;32m      8\u001B[0m p_b \u001B[38;5;241m=\u001B[39m \u001B[38;5;28mfloat\u001B[39m(\u001B[38;5;28minput\u001B[39m(\u001B[38;5;124m\"\u001B[39m\u001B[38;5;124mGeben Sie P(B) in Kommazahlen (zwischen 0 und 1) ein: \u001B[39m\u001B[38;5;124m\"\u001B[39m))\n",
      "\u001B[1;31mValueError\u001B[0m: could not convert string to float: ''"
     ]
    }
   ],
   "execution_count": 4
  },
  {
   "metadata": {},
   "cell_type": "markdown",
   "source": [
    "\\begin{title}\n",
    "Bayes Theorem (Art von Bedingter Warscheinlichkeit)\n",
    "\\end{title}\n",
    "\\begin{equation}\n",
    "P(A|B) = \\frac{P(A∩B) }{P(B)}\n",
    "\\end{equation}"
   ],
   "id": "a7c4504ec8a723a2"
  },
  {
   "metadata": {
    "ExecuteTime": {
     "end_time": "2025-01-03T10:35:32.188110Z",
     "start_time": "2025-01-03T10:35:05.425404Z"
    }
   },
   "cell_type": "code",
   "source": [
    "n = int(input(\"Anzahl durchläufe (Beipsielsweise 2 Mal gewürfelt\"))\n",
    "bayes_theorem(n)"
   ],
   "id": "f3f5c8644c415a5b",
   "outputs": [
    {
     "name": "stdout",
     "output_type": "stream",
     "text": [
      "99.999298698853%\n"
     ]
    }
   ],
   "execution_count": 12
  },
  {
   "metadata": {},
   "cell_type": "markdown",
   "source": [
    "\\begin{title}\n",
    "Satz von Bayes wenn die Wahrscheinlichkeit einer Bedingten Warscheinlichkeit grösser als einen **X%** sein soll\n",
    "\\end{title}\n",
    "\\begin{equation}\n",
    "P(A|B) > X\\%\n",
    "\\end{equation}\n",
    "**ACHTUNG HIER SELBER EINGEBEN**"
   ],
   "id": "6f488fafe420d377"
  },
  {
   "metadata": {
    "ExecuteTime": {
     "end_time": "2024-12-04T14:16:33.165323Z",
     "start_time": "2024-12-04T14:16:33.155072Z"
    }
   },
   "cell_type": "code",
   "source": [
    "X = 0.5 \n",
    "P_A = 0.04  # Beispielwert für P(A)\n",
    "P_neg_A = 0.96  # Beispielwert für P(¬A)\n",
    "P_B_given_A = 0.35  # Beispielwert für P(B|A)\n",
    "P_B_given_neg_A = 1/6  # Beispielwert für P(B|¬A)\n",
    "\n",
    "def bayes_theorem_von_hier(n):\n",
    "    P_B_given_A_n = P_B_given_A**n  # Wahrscheinlichkeit für n Wiederholungen von B bei A\n",
    "    P_B_given_neg_A_n = P_B_given_neg_A**n  # Wahrscheinlichkeit für n Wiederholungen von B bei ¬A\n",
    "    \n",
    "    # Gesamtwahrscheinlichkeit für n Wiederholungen von B\n",
    "    P_B = P_B_given_A_n * P_A + P_B_given_neg_A_n * P_neg_A\n",
    "\n",
    "    # Bayes' Theorem anwenden\n",
    "    P_A_given_B = (P_B_given_A_n * P_A) / P_B\n",
    "    return P_A_given_B\n",
    "n = 1\n",
    "while bayes_theorem_von_hier(n) < X:\n",
    "    n += 1\n",
    "\n",
    "print(f\"Nach {n} Wiederholungen.\")"
   ],
   "id": "abbf6f5c1a326058",
   "outputs": [
    {
     "name": "stdout",
     "output_type": "stream",
     "text": [
      "Nach 5 Wiederholungen.\n"
     ]
    }
   ],
   "execution_count": 19
  },
  {
   "metadata": {},
   "cell_type": "markdown",
   "source": [
    "\\begin{title}\n",
    "Unabhängigkeitsprüfung\n",
    "\\end{title}"
   ],
   "id": "b01f07c11e5fad05"
  },
  {
   "metadata": {
    "ExecuteTime": {
     "end_time": "2024-12-04T14:35:20.650839Z",
     "start_time": "2024-12-04T14:35:15.083864Z"
    }
   },
   "cell_type": "code",
   "source": "pruefe_unabhaengigkeit()",
   "id": "667977c9ebd20a52",
   "outputs": [
    {
     "name": "stdout",
     "output_type": "stream",
     "text": [
      "Abhängig.\n"
     ]
    }
   ],
   "execution_count": 24
  },
  {
   "metadata": {},
   "cell_type": "markdown",
   "source": [
    "\\begin{title}\n",
    "Binominialverteilung\n",
    "\\end{title}\n",
    "\\begin{equation}\n",
    "P(X = k) = \\binom{n}{k} \\cdot p^k \\cdot (1 - p)^{n - k}\n",
    "\\end{equation}"
   ],
   "id": "b4c05c0a5c385ea2"
  },
  {
   "metadata": {
    "ExecuteTime": {
     "end_time": "2025-01-14T08:38:19.992804Z",
     "start_time": "2025-01-14T08:37:57.057420Z"
    }
   },
   "cell_type": "code",
   "source": "Binominialverteilung()",
   "id": "b3535066672b7ab3",
   "outputs": [
    {
     "name": "stdout",
     "output_type": "stream",
     "text": [
      "Wahrscheinlichkeit P(X >= 8): 0.04158%\n",
      "Erwartungswert E(X): 2.50\n",
      "Varianz: 1.88\n"
     ]
    }
   ],
   "execution_count": 2
  },
  {
   "metadata": {},
   "cell_type": "markdown",
   "source": [
    "\\begin{title}Kumulatative Warscheinlichkeit\\end{title}\n",
    "\\begin{equation}\n",
    "P(X>=Wert)=1-\\sum_{k=0}^{\\text{Wert}-1} P(X=k)\n",
    "\\end{equation}"
   ],
   "id": "7ba3e7eda02d591"
  },
  {
   "metadata": {
    "ExecuteTime": {
     "end_time": "2025-01-14T09:38:57.276653Z",
     "start_time": "2025-01-14T09:38:33.649888Z"
    }
   },
   "cell_type": "code",
   "source": "Kumulativ()",
   "id": "259690b134cf2d73",
   "outputs": [
    {
     "name": "stdout",
     "output_type": "stream",
     "text": [
      "Wahrscheinlichkeit ist:97.62%\n"
     ]
    }
   ],
   "execution_count": 2
  },
  {
   "metadata": {},
   "cell_type": "markdown",
   "source": [
    "\\begin{title}\n",
    "Erwartungswert, Varianz und Standardabweichung von Diskretenvariablen berechnen\n",
    "\\end{title}\n",
    "\\begin{equation}\n",
    "mü = E(X)= \\sum_{i=1}^{n} ki*Pi\n",
    "\\end{equation}\n",
    "**ACHTUNG HIER SELBER EINGEBEN**"
   ],
   "id": "be793975cacfd9c3"
  },
  {
   "metadata": {
    "ExecuteTime": {
     "end_time": "2025-01-14T08:39:12.427236Z",
     "start_time": "2025-01-14T08:39:12.416238Z"
    }
   },
   "cell_type": "code",
   "source": [
    "werte = [1, 2, 3, 4]                  # Mögliche Ergebnisse\n",
    "wahrscheinlichkeiten = [0.1, 0.2, 0.4, 0.3]  # Zugehörige Wahrscheinlichkeiten\n",
    "\n",
    "erwartungswert = sum(w * p for w, p in zip(werte, wahrscheinlichkeiten))\n",
    "print(\"Erwartungswert:\", round(erwartungswert,2))\n",
    "varianz = sum(p * (w - erwartungswert)**2 for w, p in zip(werte, wahrscheinlichkeiten))\n",
    "print(\"Varianz:\", round(varianz,2))\n",
    "standardabweichung = math.sqrt(varianz)\n",
    "print(\"Standard abweichung:\", round(standardabweichung,2))"
   ],
   "id": "1941dfb8f4497396",
   "outputs": [
    {
     "name": "stdout",
     "output_type": "stream",
     "text": [
      "Erwartungswert: 2.9\n",
      "Varianz: 0.89\n",
      "Standard abweichung: 0.94\n"
     ]
    }
   ],
   "execution_count": 5
  },
  {
   "metadata": {},
   "cell_type": "markdown",
   "source": [
    "\\begin{title}\n",
    "Mehrdimensionalen Zufallsvariablen\n",
    "\\end{title}\n",
    "Erwartungswert\n",
    "\\begin{equation}\n",
    "\\mathbb{E}[X] = \\sum_{i} \\sum_{j} x_{ij} \\cdot p(x_{ij}, y_{ij})\n",
    "\\end{equation}\n",
    "\\begin{equation}\n",
    "\\mathbb{E}[Y] = \\sum_{i} \\sum_{j} y_{ij} \\cdot p(x_{ij}, y_{ij})\n",
    "\\end{equation}\n",
    "Varianz und Kovarianz\n",
    "\\begin{equation}\n",
    "\\text{Var}(X) = \\mathbb{E}[X^2] - (\\mathbb{E}[X])^2\n",
    "\\end{equation}\n",
    "\\begin{equation}\n",
    "\\text{Cov}(X, Y) = \\mathbb{E}[XY] - \\mathbb{E}[X] \\cdot \\mathbb{E}[Y]\n",
    "\\end{equation}\n",
    "Kovarianzmatrix\n",
    "\\begin{equation}\n",
    "\\Sigma = \n",
    "\\begin{bmatrix}\n",
    "\\text{Var}(X) & \\text{Cov}(X, Y) \\\\\n",
    "\\text{Cov}(Y, X) & \\text{Var}(Y)\n",
    "\\end{bmatrix}\n",
    "\\end{equation}\n",
    "\n",
    "**ACHTUNG HIER SELBER EINGEBEN**"
   ],
   "id": "7b7af803fdd96d91"
  },
  {
   "metadata": {
    "ExecuteTime": {
     "end_time": "2024-12-18T10:18:34.308799Z",
     "start_time": "2024-12-18T10:18:34.294409Z"
    }
   },
   "cell_type": "code",
   "source": [
    "# Wertepaare (x, y) und ihre Wahrscheinlichkeiten\n",
    "werte = [(1, 2), (1, 4), (3, 2), (3, 4)]\n",
    "wahrscheinlichkeiten = [0.1, 0.2, 0.4, 0.3]\n",
    "# Erwartungswerte für X und Y\n",
    "erwartungswert_x = sum(x * p for (x, y), p in zip(werte, wahrscheinlichkeiten))\n",
    "erwartungswert_y = sum(y * p for (x, y), p in zip(werte, wahrscheinlichkeiten))\n",
    "print(\"Erwartungswert (X):\", round(erwartungswert_x,2))\n",
    "print(\"Erwartungswert (Y):\", round(erwartungswert_y,2))\n",
    "# Varianz von X und Y\n",
    "varianz_x = sum(p * (x - erwartungswert_x)**2 for (x, y), p in zip(werte, wahrscheinlichkeiten))\n",
    "varianz_y = sum(p * (y - erwartungswert_y)**2 for (x, y), p in zip(werte, wahrscheinlichkeiten))\n",
    "\n",
    "# Kovarianz zwischen X und Y\n",
    "kovarianz_xy = sum(p * (x - erwartungswert_x) * (y - erwartungswert_y) for (x, y), p in zip(werte, wahrscheinlichkeiten))\n",
    "\n",
    "print(\"Varianz (X):\", round(varianz_x,2))\n",
    "print(\"Varianz (Y):\", round(varianz_y,2))\n",
    "print(\"Kovarianz (X, Y):\", round(kovarianz_xy,2))\n",
    "\n",
    "# Kovarianzmatrix\n",
    "kovarianzmatrix = np.array([\n",
    "    [varianz_x, kovarianz_xy],\n",
    "    [kovarianz_xy, varianz_y]\n",
    "])\n",
    "print(\"Kovarianzmatrix:\\n\", kovarianzmatrix)\n"
   ],
   "id": "c76759289791995b",
   "outputs": [
    {
     "name": "stdout",
     "output_type": "stream",
     "text": [
      "Erwartungswert (X): 2.4\n",
      "Erwartungswert (Y): 3.0\n",
      "Varianz (X): 0.84\n",
      "Varianz (Y): 1.0\n",
      "Kovarianz (X, Y): -0.2\n",
      "Kovarianzmatrix:\n",
      " [[ 0.84 -0.2 ]\n",
      " [-0.2   1.  ]]\n"
     ]
    }
   ],
   "execution_count": 9
  },
  {
   "metadata": {},
   "cell_type": "markdown",
   "source": [
    "\\begin{title}\n",
    "Poissonverteilung (\\lambda = E(X))\n",
    "\\end{title}\n",
    "\\begin{equation}\n",
    "P(X = k) = \\frac{\\lambda^k e^{-\\lambda}}{k!}, \\quad k = 0, 1, 2, \\dots\n",
    "\\end{equation}"
   ],
   "id": "f9ee738c97521e37"
  },
  {
   "metadata": {
    "ExecuteTime": {
     "end_time": "2025-01-14T08:42:04.477060Z",
     "start_time": "2025-01-14T08:41:53.018326Z"
    }
   },
   "cell_type": "code",
   "source": "poisson_verteilung()",
   "id": "a58b4acd3b64002c",
   "outputs": [
    {
     "name": "stdout",
     "output_type": "stream",
     "text": [
      "k     Wahrscheinlichkeitsverteilung (P(X=k))   Kumulierte Wahrscheinlichkeitsverteilung (P(X≤k))\n",
      "-------------------------------------------------------------------------------------\n",
      "0     0.1353                                   0.1353                   \n",
      "1     0.2707                                   0.4060                   \n"
     ]
    },
    {
     "data": {
      "text/plain": [
       "<Figure size 1000x600 with 1 Axes>"
      ],
      "image/png": "[encoded data removed]"
     },
     "metadata": {},
     "output_type": "display_data"
    }
   ],
   "execution_count": 7
  },
  {
   "metadata": {},
   "cell_type": "markdown",
   "source": [
    "\\begin{title}\n",
    "Stetige Zufallsvariable\n",
    "\\end{title}\n",
    "Dichtefunktion einer Normalverteilung\n",
    "\\begin{equation}\n",
    "f(x) = \\frac{1}{\\sigma \\sqrt{2\\pi}} e^{-\\frac{(x - \\mu)^2}{2\\sigma^2}}\n",
    "\\end{equation}\n",
    "Integral der Dichtefunktion eines Intervalls\n",
    "\\begin{equation}\n",
    "P(a \\leq X \\leq b) = \\int_{a}^{b} f(x) \\, dx = \\int_{a}^{b} \\frac{1}{\\sigma \\sqrt{2\\pi}} e^{-\\frac{(x - \\mu)^2}{2\\sigma^2}} \\, dx\n",
    "\\end{equation}"
   ],
   "id": "71bb02e1de6092de"
  },
  {
   "metadata": {
    "ExecuteTime": {
     "end_time": "2025-01-15T09:30:26.217783Z",
     "start_time": "2025-01-15T09:29:58.283886Z"
    }
   },
   "cell_type": "code",
   "source": "normalverteilung_tool()",
   "id": "16764037c8686343",
   "outputs": [
    {
     "name": "stdout",
     "output_type": "stream",
     "text": [
      "Erwartungswert (E[X]): 0.0000\n",
      "Varianz (Var[X]): 0.0000\n"
     ]
    }
   ],
   "execution_count": 9
  },
  {
   "metadata": {},
   "cell_type": "markdown",
   "source": [
    "\\begin{title}\n",
    "Exponentialfunktion (Gedächnisslos)\n",
    "\\end{title}\n",
    "Die **Dichtefunktion** (PDF) der Exponentialverteilung ist:\n",
    "\\begin{equation}\n",
    "f(x) = \\lambda e^{-\\lambda x}, \\quad x \\geq 0\n",
    "\\end{equation}\n",
    "\n",
    "Die **kumulierte Verteilungsfunktion** (CDF) lautet:\n",
    "\\begin{equation}\n",
    "F(x) = 1 - e^{-\\lambda x}, \\quad x \\geq 0\n",
    "\\end{equation}\n",
    "\n",
    "Der **Erwartungswert** ist:\n",
    "\\begin{equation}\n",
    "E(X) = \\frac{1}{\\lambda}\n",
    "\\end{equation}\n",
    "\n",
    "Die **Varianz** ist:\n",
    "\\begin{equation}\n",
    "\\text{Var}(X) = \\frac{1}{\\lambda^2}\n",
    "\\end{equation}\n",
    "\n",
    "Die Wahrscheinlichkeit \\( P(a \\leq X \\leq b) \\) für ein Intervall \\( [a, b] \\) ist:\n",
    "\\begin{equation}\n",
    "P(a \\leq X \\leq b) = F(b) - F(a) = \\left(1 - e^{-\\lambda b}\\right) - \\left(1 - e^{-\\lambda a}\\right)\n",
    "\\end{equation}\n",
    "\n",
    "Das **Quantil** für \\( P(X \\leq x) = p \\) wird durch die Inverse der CDF gegeben:\n",
    "\\begin{equation}\n",
    "Q(p) = F^{-1}(p) = \\frac{-\\ln(1-p)}{\\lambda}\n",
    "\\end{equation}\n"
   ],
   "id": "8e498a721c4dce3b"
  },
  {
   "metadata": {
    "ExecuteTime": {
     "end_time": "2025-01-14T12:34:47.621239Z",
     "start_time": "2025-01-14T12:34:32.340353Z"
    }
   },
   "cell_type": "code",
   "source": "exponential_verteilung_berechnen()",
   "id": "1ae2c3eb31464e18",
   "outputs": [
    {
     "name": "stdout",
     "output_type": "stream",
     "text": [
      "Rate (Lambda): 0.5\n",
      "Erwartungswert (E[X]): 2.0\n",
      "Erwartungswert (E[X]): 2.0\n",
      "Varianz (Var[X]): 4.0\n",
      "Dichtefunktion bei x = 1 0.3\n",
      "Ungültige Eingabe! Bitte wähle 'intervall', 'mindestens' oder 'maximal'.\n"
     ]
    },
    {
     "data": {
      "text/plain": [
       "<Figure size 640x480 with 1 Axes>"
      ],
      "image/png": "[encoded data removed]"
     },
     "metadata": {},
     "output_type": "display_data"
    }
   ],
   "execution_count": 8
  },
  {
   "metadata": {},
   "cell_type": "markdown",
   "source": [
    "\\begin{title}\n",
    "Gleichverteilung\n",
    "\\end{title}\n",
    "\n",
    "Die **Dichtefunktion** (PDF) der Gleichverteilung im Intervall \\([a, b]\\) ist:\n",
    "\\begin{equation}\n",
    "f(x) = \n",
    "\\begin{cases} \n",
    "\\frac{1}{b - a} & \\text{für } a \\leq x \\leq b \\\\\n",
    "0 & \\text{sonst}\n",
    "\\end{cases}\n",
    "\\end{equation}\n",
    "\n",
    "Der **Erwartungswert** ist:\n",
    "\\begin{equation}\n",
    "E(X) = \\frac{a + b}{2}\n",
    "\\end{equation}\n",
    "\n",
    "Die **Varianz** ist:\n",
    "\\begin{equation}\n",
    "\\text{Var}(X) = \\frac{(b - a)^2}{12}\n",
    "\\end{equation}\n",
    "\n",
    "Die Wahrscheinlichkeit \\( P(a \\leq X \\leq b) \\) für ein Intervall \\( [x_1, x_2] \\) ist:\n",
    "\\begin{equation}\n",
    "P(x_1 \\leq X \\leq x_2) = \\frac{x_2 - x_1}{b - a}, \\quad a \\leq x_1 < x_2 \\leq b\n",
    "\\end{equation}\n",
    "\n",
    "Das **Quantil** für \\( P(X \\leq x) = p \\) wird durch die Inverse der CDF gegeben:\n",
    "\\begin{equation}\n",
    "Q(p) = a + p \\cdot (b - a)\n",
    "\\end{equation}\n"
   ],
   "id": "7dd496c924efbdd8"
  },
  {
   "metadata": {
    "ExecuteTime": {
     "end_time": "2025-01-14T12:36:31.342492Z",
     "start_time": "2025-01-14T12:36:25.706223Z"
    }
   },
   "cell_type": "code",
   "source": "gleichverteilung_berechnen()",
   "id": "1da090d9d62693de",
   "outputs": [
    {
     "ename": "ValueError",
     "evalue": "could not convert string to float: ''",
     "output_type": "error",
     "traceback": [
      "\u001B[1;31m---------------------------------------------------------------------------\u001B[0m",
      "\u001B[1;31mValueError\u001B[0m                                Traceback (most recent call last)",
      "Cell \u001B[1;32mIn[12], line 1\u001B[0m\n\u001B[1;32m----> 1\u001B[0m \u001B[43mgleichverteilung_berechnen\u001B[49m\u001B[43m(\u001B[49m\u001B[43m)\u001B[49m\n",
      "File \u001B[1;32m~\\PycharmProjects\\WER\\Gleichverteilung.py:13\u001B[0m, in \u001B[0;36mgleichverteilung_berechnen\u001B[1;34m()\u001B[0m\n\u001B[0;32m      6\u001B[0m \u001B[38;5;250m\u001B[39m\u001B[38;5;124;03m\"\"\"\u001B[39;00m\n\u001B[0;32m      7\u001B[0m \u001B[38;5;124;03mBerechnet die Dichtefunktion, den Erwartungswert, die Varianz\u001B[39;00m\n\u001B[0;32m      8\u001B[0m \u001B[38;5;124;03mund die Wahrscheinlichkeit für die Gleichverteilung im Intervall [a, b].\u001B[39;00m\n\u001B[0;32m      9\u001B[0m \u001B[38;5;124;03mDer Benutzer gibt die Werte für das Intervall ein und alles wird berechnet.\u001B[39;00m\n\u001B[0;32m     10\u001B[0m \u001B[38;5;124;03m\"\"\"\u001B[39;00m\n\u001B[0;32m     12\u001B[0m \u001B[38;5;66;03m# Eingabe des Intervalls [a, b]\u001B[39;00m\n\u001B[1;32m---> 13\u001B[0m a \u001B[38;5;241m=\u001B[39m \u001B[38;5;28;43mfloat\u001B[39;49m\u001B[43m(\u001B[49m\u001B[38;5;28;43minput\u001B[39;49m\u001B[43m(\u001B[49m\u001B[38;5;124;43m\"\u001B[39;49m\u001B[38;5;124;43mGeben Sie die untere Grenze a des Intervalls ein: \u001B[39;49m\u001B[38;5;124;43m\"\u001B[39;49m\u001B[43m)\u001B[49m\u001B[43m)\u001B[49m\n\u001B[0;32m     14\u001B[0m b \u001B[38;5;241m=\u001B[39m \u001B[38;5;28mfloat\u001B[39m(\u001B[38;5;28minput\u001B[39m(\u001B[38;5;124m\"\u001B[39m\u001B[38;5;124mGeben Sie die obere Grenze b des Intervalls ein: \u001B[39m\u001B[38;5;124m\"\u001B[39m))\n\u001B[0;32m     16\u001B[0m \u001B[38;5;66;03m# Dichtefunktion (PDF)\u001B[39;00m\n",
      "\u001B[1;31mValueError\u001B[0m: could not convert string to float: ''"
     ]
    }
   ],
   "execution_count": 12
  },
  {
   "metadata": {},
   "cell_type": "markdown",
   "source": [
    "**Dichtefunktion** der geometrischen Verteilung\n",
    "\\begin{equation}\n",
    "P(X = k) = (1 - p)^{k-1} p, \\quad k = 1, 2, 3, \\dots\n",
    "\\end{equation}\n",
    "**Verteilungsfunktion** der geometrischen Verteilung\n",
    "\\begin{equation}\n",
    "P(X \\leq k) = 1 - (1 - p)^k, \\quad k = 1, 2, 3, \\dots\n",
    "\\end{equation}\n",
    "**Erwartungswert** der geometrischen Verteilung\n",
    "\\begin{equation}\n",
    "E[X] = \\frac{1}{p}\n",
    "\\end{equation}\n",
    "**Varianz** der geometrischen Verteilung\n",
    "\\end{title}\n",
    "\\begin{equation}\n",
    "\\text{Var}(X) = \\frac{1 - p}{p^2}\n",
    "\\end{equation}\n"
   ],
   "id": "c4e5363b70c12460"
  },
  {
   "metadata": {
    "ExecuteTime": {
     "end_time": "2025-01-03T12:39:00.637826Z",
     "start_time": "2025-01-03T12:38:29.358684Z"
    }
   },
   "cell_type": "code",
   "source": "geometrische_verteilung_berechnung()",
   "id": "6966a06c99f9b850",
   "outputs": [
    {
     "name": "stdout",
     "output_type": "stream",
     "text": [
      "Die Dichtefunktion P(X = 5) beträgt: 0.0013\n"
     ]
    }
   ],
   "execution_count": 34
  },
  {
   "metadata": {},
   "cell_type": "markdown",
   "source": [
    "\\begin{title}\n",
    "Schätzer (Punkt, Konfidenzintervall und Maximum Likelihood)\n",
    "\\end{title}\n",
    "**Achtung füge noch die Daten oder Mittelwerte und Standard Abweichung selber hinzu**"
   ],
   "id": "765db42cf579a436"
  },
  {
   "metadata": {
    "ExecuteTime": {
     "end_time": "2025-01-15T07:59:23.026678Z",
     "start_time": "2025-01-15T07:59:06.999323Z"
    }
   },
   "cell_type": "code",
   "source": [
    "daten=None #[50.12, 49.96, 50.35, 50.02, 49.80, 51.00, 50.12, 49.75]\n",
    "mittelwert=280 #None\n",
    "std_abw=20 #None\n",
    "schätzung(daten = daten, mittelwert = mittelwert, std_abw = std_abw)"
   ],
   "id": "4ab615e17e789cff",
   "outputs": [
    {
     "name": "stdout",
     "output_type": "stream",
     "text": [
      "Erwartungswert (Mittelwert der Daten): 280\n",
      "Standardabweichung: 20\n",
      "Standardfehler: 4.0\n",
      "Die Erfolgswahrscheinlichkeit kann nur für binäre Daten berechnet werden (0 und 1).\n",
      "95.0 % Konfidenzintervall: (272.16, 287.84)\n",
      "Maximum Likelihood ist nicht möglich, da keine Daten vorhanden sind\n"
     ]
    }
   ],
   "execution_count": 6
  },
  {
   "metadata": {},
   "cell_type": "markdown",
   "source": [
    "\\begin{title}\n",
    "Testverteilung\n",
    "\\end{title}"
   ],
   "id": "e3bba2c4ee85b394"
  },
  {
   "metadata": {
    "ExecuteTime": {
     "end_time": "2025-01-15T09:28:29.726896Z",
     "start_time": "2025-01-15T09:28:10.156614Z"
    }
   },
   "cell_type": "code",
   "source": "Testverteilung()",
   "id": "bbf27ac8b9e66f7b",
   "outputs": [
    {
     "ename": "ValueError",
     "evalue": "could not convert string to float: ''",
     "output_type": "error",
     "traceback": [
      "\u001B[1;31m---------------------------------------------------------------------------\u001B[0m",
      "\u001B[1;31mValueError\u001B[0m                                Traceback (most recent call last)",
      "Cell \u001B[1;32mIn[5], line 1\u001B[0m\n\u001B[1;32m----> 1\u001B[0m \u001B[43mTestverteilung\u001B[49m\u001B[43m(\u001B[49m\u001B[43m)\u001B[49m\n",
      "File \u001B[1;32m~\\PycharmProjects\\WER\\Test_verteilung.py:12\u001B[0m, in \u001B[0;36mTestverteilung\u001B[1;34m()\u001B[0m\n\u001B[0;32m     10\u001B[0m \u001B[38;5;66;03m# Eingabe der Parameter für die Binomialverteilung\u001B[39;00m\n\u001B[0;32m     11\u001B[0m n \u001B[38;5;241m=\u001B[39m \u001B[38;5;28mint\u001B[39m(\u001B[38;5;28minput\u001B[39m(\u001B[38;5;124m\"\u001B[39m\u001B[38;5;124mGib n (Anzahl der Versuche) ein: \u001B[39m\u001B[38;5;124m\"\u001B[39m))\n\u001B[1;32m---> 12\u001B[0m p \u001B[38;5;241m=\u001B[39m (\u001B[38;5;28;43mfloat\u001B[39;49m\u001B[43m(\u001B[49m\u001B[38;5;28;43minput\u001B[39;49m\u001B[43m(\u001B[49m\u001B[38;5;124;43m\"\u001B[39;49m\u001B[38;5;124;43mGib p (Wahrscheinlichkeit für Erfolg) in \u001B[39;49m\u001B[38;5;132;43;01m% e\u001B[39;49;00m\u001B[38;5;124;43min: \u001B[39;49m\u001B[38;5;124;43m\"\u001B[39;49m\u001B[43m)\u001B[49m\u001B[43m)\u001B[49m\u001B[38;5;241m/\u001B[39m\u001B[38;5;241m100\u001B[39m)\n\u001B[0;32m     14\u001B[0m \u001B[38;5;66;03m# Sicherstellen, dass p im gültigen Bereich ist\u001B[39;00m\n\u001B[0;32m     15\u001B[0m \u001B[38;5;28;01mif\u001B[39;00m p \u001B[38;5;241m<\u001B[39m \u001B[38;5;241m0\u001B[39m \u001B[38;5;129;01mor\u001B[39;00m p \u001B[38;5;241m>\u001B[39m \u001B[38;5;241m1\u001B[39m:\n",
      "\u001B[1;31mValueError\u001B[0m: could not convert string to float: ''"
     ]
    }
   ],
   "execution_count": 5
  },
  {
   "metadata": {},
   "cell_type": "markdown",
   "source": [
    "**Binominialtest**\n",
    "\\begin{equation}\n",
    "Z = \\frac{X - n \\cdot p_0}{\\sqrt{n \\cdot p_0 \\cdot (1 - p_0)}}\n",
    "\\end{equation}\n",
    "**Z-Test** machen wenn es um die Grundmenge geht\n",
    "\\begin{equation}\n",
    "Z = \\frac{\\overline{x} - \\mu_0}{\\frac{\\sigma}{\\sqrt{n}}}\n",
    "\\end{equation}\n",
    "**T-Test**machen wenn es um eine Stichprobe geht\n",
    "\\begin{equation}\n",
    "t = \\frac{\\overline{x} - \\mu_0}{\\frac{s}{\\sqrt{n}}}\n",
    "\\end{equation}"
   ],
   "id": "da9827652e58c90a"
  },
  {
   "metadata": {
    "ExecuteTime": {
     "end_time": "2025-01-15T09:48:57.396792Z",
     "start_time": "2025-01-15T09:48:36.049451Z"
    }
   },
   "cell_type": "code",
   "source": "hypothesentests_pruefung()",
   "id": "9b1b7d71ab00297f",
   "outputs": [
    {
     "name": "stdout",
     "output_type": "stream",
     "text": [
      "\n",
      "Der benötigte Stichprobenumfang beträgt: 126.0\n"
     ]
    }
   ],
   "execution_count": 4
  }
 ],
 "metadata": {
  "kernelspec": {
   "display_name": "Python 3",
   "language": "python",
   "name": "python3"
  },
  "language_info": {
   "codemirror_mode": {
    "name": "ipython",
    "version": 2
   },
   "file_extension": ".py",
   "mimetype": "text/x-python",
   "name": "python",
   "nbconvert_exporter": "python",
   "pygments_lexer": "ipython2",
   "version": "2.7.6"
  }
 },
 "nbformat": 4,
 "nbformat_minor": 5
}
