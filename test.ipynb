{
 "cells": [
  {
   "cell_type": "code",
   "execution_count": null,
   "id": "initial_id",
   "metadata": {
    "collapsed": true
   },
   "outputs": [],
   "source": [
    ""
   ]
  },
  {
   "metadata": {
    "ExecuteTime": {
     "end_time": "2024-12-04T13:39:02.362505Z",
     "start_time": "2024-12-04T13:39:02.351303Z"
    }
   },
   "cell_type": "code",
   "source": [
    "import math\n",
    "\n",
    "def kombination_variation_permutation_1():\n",
    "    \n",
    "    # Frage 1: Werden alle Objekte verwendet?\n",
    "    alle_objekte = input(\"Werden alle Objekte verwendet? (j = Ja, n =Nein): \")\n",
    "    \n",
    "    if alle_objekte == \"j\":\n",
    "        # Permutation (alle Objekte werden verwendet)\n",
    "        option = input(\"Treten Wiederholungen ein? (j = Ja, n =Nein):\")\n",
    "        \n",
    "        if option == \"j\":\n",
    "            # Permutation mit Wiederholung\n",
    "            n = int(input(\"Geben Sie die Gesamtzahl der Elemente (n) ein: \"))\n",
    "            k_anz = int(input(\"Geben Sie die Anzahl der ausgewählten Elemente (k) ein: \"))\n",
    "            for i in range(k_anz):\n",
    "                k = []\n",
    "                k_x = 0\n",
    "                k_x = int(input(f\"Geben Sie k{i+1} ein: \"))\n",
    "                k.append(k_x)\n",
    "            ergebnis = math.factorial(n)  # n!\n",
    "            # Wir teilen durch die Fakultäten der Häufigkeiten der wiederholten Objekte\n",
    "            for h in k:\n",
    "                ergebnis /= math.factorial(h)\n",
    "            print(f\"Die Anzahl der Permutationen mit Wiederholung beträgt: {ergebnis}\")\n",
    "        elif option == \"n\":\n",
    "            # Permutation ohne Wiederholung\n",
    "            n = int(input(\"Geben Sie die Gesamtzahl der Elemente (n) ein: \"))\n",
    "            ergebnis = math.factorial(n)\n",
    "            print(f\"Die Anzahl der Permutationen ohne Wiederholung beträgt: {ergebnis}\")\n",
    "        else:\n",
    "            print(\"Ungültige Eingabe. Bitte starten Sie das Programm erneut.\")\n",
    "    \n",
    "    elif alle_objekte == \"n\":\n",
    "        # Frage 2: Reihenfolge spielt eine Rolle?\n",
    "        reihenfolge = input(\"Spielt die Reihenfolge eine Rolle? (j = Ja, n =Nein): \")\n",
    "        \n",
    "        if reihenfolge == \"n\":\n",
    "            # Kombinationen (Reihenfolge spielt keine Rolle)\n",
    "            option = input(\"Treten Wiederholungen ein? (Ja, Nein):\")\n",
    "            \n",
    "            n = int(input(\"Geben Sie die Gesamtzahl der Elemente (n) ein: \"))\n",
    "            k = int(input(\"Geben Sie die Anzahl der ausgewählten Elemente (k) ein: \"))\n",
    "            \n",
    "            if option == \"j\":\n",
    "                # Kombination mit Wiederholung: (n + k - 1) über k\n",
    "                ergebnis = math.comb(n + k - 1, k)\n",
    "                print(f\"Die Anzahl der Kombinationen mit Wiederholung beträgt: {ergebnis}\")\n",
    "            elif option == \"n\":\n",
    "                # Kombination ohne Wiederholung: n! / (k! * (n - k)!)\n",
    "                ergebnis = math.comb(n, k)\n",
    "                print(f\"Die Anzahl der Kombinationen ohne Wiederholung beträgt: {ergebnis}\")\n",
    "            else:\n",
    "                print(\"Ungültige Eingabe. Bitte starten Sie das Programm erneut.\")\n",
    "        \n",
    "        elif reihenfolge == \"j\":\n",
    "            # Variationen (Reihenfolge spielt eine Rolle)\n",
    "            option = input(\"Treten Wiederholungen ein?\")\n",
    "            \n",
    "            n = int(input(\"Geben Sie die Gesamtzahl der Elemente (n) ein: \"))\n",
    "            k = int(input(\"Geben Sie die Anzahl der ausgewählten Elemente (k) ein: \"))\n",
    "            \n",
    "            if option == \"j\":\n",
    "                # Variation mit Wiederholung: n^k\n",
    "                ergebnis = n ** k\n",
    "                print(f\"Die Anzahl der Variationen mit Wiederholung beträgt: {ergebnis}\")\n",
    "            elif option == \"n\":\n",
    "                # Variation ohne Wiederholung: n! / (n - k)!\n",
    "                ergebnis = math.perm(n, k)\n",
    "                print(f\"Die Anzahl der Variationen ohne Wiederholung beträgt: {ergebnis}\")\n",
    "            else:\n",
    "                print(\"Ungültige Eingabe. Bitte starten Sie das Programm erneut.\")\n",
    "        else:\n",
    "            print(\"Ungültige Eingabe. Bitte starten Sie das Programm erneut.\")\n",
    "    \n",
    "    else:\n",
    "        print(\"Ungültige Eingabe. Bitte starten Sie das Programm erneut.\")\n",
    "\n",
    "\n"
   ],
   "id": "bf0d60dc4c982a98",
   "outputs": [],
   "execution_count": 27
  }
 ],
 "metadata": {
  "kernelspec": {
   "display_name": "Python 3",
   "language": "python",
   "name": "python3"
  },
  "language_info": {
   "codemirror_mode": {
    "name": "ipython",
    "version": 2
   },
   "file_extension": ".py",
   "mimetype": "text/x-python",
   "name": "python",
   "nbconvert_exporter": "python",
   "pygments_lexer": "ipython2",
   "version": "2.7.6"
  }
 },
 "nbformat": 4,
 "nbformat_minor": 5
}
